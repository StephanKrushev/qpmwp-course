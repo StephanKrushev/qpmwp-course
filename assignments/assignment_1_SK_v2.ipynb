{
 "cells": [
  {
   "cell_type": "markdown",
   "metadata": {},
   "source": [
    "# Assignment 1\n",
    "\n",
    "Deadline: 19.03.2025, 12:00 CET\n",
    "\n",
    "<Add your name, student-id and emal address>\n",
    "Stephan Krushev, s09-727-090, stephan.krushev@gmail.com"
   ]
  },
  {
   "cell_type": "code",
   "execution_count": 1,
   "metadata": {},
   "outputs": [
    {
     "name": "stdout",
     "output_type": "stream",
     "text": [
      "/home/steph/Documents/Learning/UZH_Portfolio_Management_Python_FS2025/Code\n",
      "/home/steph/Documents/Learning/UZH_Portfolio_Management_Python_FS2025/Code/qpmwp-course/src\n"
     ]
    }
   ],
   "source": [
    "# Import standard libraries\n",
    "import os\n",
    "import sys\n",
    "import timeit # To compute runtimes\n",
    "from typing import Optional\n",
    "\n",
    "# Import third-party libraries\n",
    "import numpy as np\n",
    "import pandas as pd\n",
    "import matplotlib.pyplot as plt\n",
    "\n",
    "# Import local modules\n",
    "#project_root = os.path.dirname(os.path.dirname(os.getcwd()))   # Change this path if needed\n",
    "\n",
    "project_root =os.getcwd() # set in .vscode/settings.json\n",
    "print(project_root)\n",
    "\n",
    "\n",
    "src_path = os.path.join(project_root, 'qpmwp-course/src')\n",
    "sys.path.append(project_root)\n",
    "\n",
    "print(src_path)\n"
   ]
  },
  {
   "cell_type": "code",
   "execution_count": 2,
   "metadata": {},
   "outputs": [
    {
     "name": "stdout",
     "output_type": "stream",
     "text": [
      "{'quadprog', 'osqp', 'highs', 'gurobi', 'mosek', 'daqp', 'cvxopt', 'qpalm'}\n"
     ]
    }
   ],
   "source": [
    "sys.path.append(src_path)\n",
    "from estimation.covariance import Covariance\n",
    "from estimation.expected_return import ExpectedReturn\n",
    "from optimization.constraints import Constraints\n",
    "from optimization.optimization import Optimization, Objective\n",
    "from optimization.optimization_data import OptimizationData\n",
    "from optimization.quadratic_program import QuadraticProgram, USABLE_SOLVERS\n",
    "print(USABLE_SOLVERS) # edit in quaratic_program.py to add more solvers or subtract if needed, uncomment mosek and gurobi"
   ]
  },
  {
   "cell_type": "markdown",
   "metadata": {},
   "source": [
    "## 1. Solver Horse Race\n",
    "\n",
    "### 1.a)\n",
    "(3 points)\n",
    "\n",
    "Generate a Multivariate-Normal random dataset of dimension TxN, T=1000, N=100, and compute a vector of expected returns, q, and a covariance matrix, P, using classes ExpectedReturn and Covariance respectively."
   ]
  },
  {
   "cell_type": "code",
   "execution_count": 5,
   "metadata": {},
   "outputs": [],
   "source": [
    "\n",
    "# remove the follwoing solvers if using more than 800 stocks\n",
    "#USABLE_SOLVERS.remove('quadprog') \n",
    "#USABLE_SOLVERS.remove('daqp')\n",
    "#USABLE_SOLVERS.remove('mosek')\n",
    "#USABLE_SOLVERS.remove('gurobi')"
   ]
  },
  {
   "cell_type": "code",
   "execution_count": 11,
   "metadata": {},
   "outputs": [
    {
     "name": "stdout",
     "output_type": "stream",
     "text": [
      "Vector of expected returns (q):\n",
      "Asset_1      0.014602\n",
      "Asset_2     -0.000493\n",
      "Asset_3      0.001541\n",
      "Asset_4      0.020163\n",
      "Asset_5      0.007384\n",
      "               ...   \n",
      "Asset_96     0.001896\n",
      "Asset_97    -0.005400\n",
      "Asset_98     0.007971\n",
      "Asset_99    -0.007407\n",
      "Asset_100   -0.002762\n",
      "Length: 100, dtype: float64\n",
      "\n",
      "Covariance matrix (P):\n",
      "            Asset_1   Asset_2   Asset_3   Asset_4   Asset_5   Asset_6  \\\n",
      "Asset_1    0.010295  0.000808  0.000184 -0.000653 -0.000942 -0.001801   \n",
      "Asset_2    0.000808  0.008789  0.001354  0.000340  0.001694  0.000483   \n",
      "Asset_3    0.000184  0.001354  0.009027 -0.001090  0.003353  0.002273   \n",
      "Asset_4   -0.000653  0.000340 -0.001090  0.011138  0.001368  0.001518   \n",
      "Asset_5   -0.000942  0.001694  0.003353  0.001368  0.010799  0.000241   \n",
      "...             ...       ...       ...       ...       ...       ...   \n",
      "Asset_96   0.000825 -0.000413 -0.001084 -0.000006  0.000259 -0.000313   \n",
      "Asset_97   0.000176 -0.000383 -0.001904  0.000466 -0.000978  0.000693   \n",
      "Asset_98   0.001698  0.001084  0.000134 -0.002899 -0.000568  0.000245   \n",
      "Asset_99   0.000121  0.000127  0.000201  0.000812 -0.001505  0.000899   \n",
      "Asset_100 -0.001041  0.000249 -0.001237 -0.000226 -0.001041 -0.000253   \n",
      "\n",
      "            Asset_7   Asset_8   Asset_9  Asset_10  ...  Asset_91  Asset_92  \\\n",
      "Asset_1    0.001256  0.000083 -0.000964  0.000558  ...  0.000516  0.000331   \n",
      "Asset_2   -0.000692 -0.000884 -0.001410 -0.000777  ... -0.001557  0.000551   \n",
      "Asset_3   -0.001975  0.000813 -0.000125  0.000222  ... -0.001244  0.000716   \n",
      "Asset_4   -0.001087 -0.001076 -0.000532  0.001945  ... -0.000159 -0.000569   \n",
      "Asset_5   -0.002433  0.001460 -0.000287 -0.000007  ... -0.000976 -0.000123   \n",
      "...             ...       ...       ...       ...  ...       ...       ...   \n",
      "Asset_96  -0.000293  0.000096  0.000115 -0.000567  ...  0.001214  0.001658   \n",
      "Asset_97   0.000725 -0.001340  0.000447 -0.000693  ...  0.000762 -0.000162   \n",
      "Asset_98   0.002018 -0.000435 -0.000228  0.000294  ... -0.001085 -0.001951   \n",
      "Asset_99   0.000752 -0.001599 -0.001221  0.001038  ...  0.001473 -0.001085   \n",
      "Asset_100  0.000529  0.000283  0.000854 -0.002068  ...  0.000320  0.001212   \n",
      "\n",
      "           Asset_93  Asset_94  Asset_95  Asset_96  Asset_97  Asset_98  \\\n",
      "Asset_1   -0.000191 -0.001213  0.000602  0.000825  0.000176  0.001698   \n",
      "Asset_2   -0.000418  0.000143 -0.001604 -0.000413 -0.000383  0.001084   \n",
      "Asset_3   -0.001534  0.000595 -0.000790 -0.001084 -0.001904  0.000134   \n",
      "Asset_4    0.000634 -0.000714  0.000183 -0.000006  0.000466 -0.002899   \n",
      "Asset_5    0.000500  0.001099 -0.003042  0.000259 -0.000978 -0.000568   \n",
      "...             ...       ...       ...       ...       ...       ...   \n",
      "Asset_96  -0.000086 -0.000234 -0.000701  0.007015 -0.000224 -0.000671   \n",
      "Asset_97  -0.000533 -0.000340  0.002172 -0.000224  0.010699 -0.001193   \n",
      "Asset_98  -0.000125  0.001182  0.000319 -0.000671 -0.001193  0.012066   \n",
      "Asset_99   0.000531 -0.001424  0.001392 -0.001338  0.001204  0.000485   \n",
      "Asset_100  0.000243  0.000730 -0.001852  0.000953 -0.000716  0.000468   \n",
      "\n",
      "           Asset_99  Asset_100  \n",
      "Asset_1    0.000121  -0.001041  \n",
      "Asset_2    0.000127   0.000249  \n",
      "Asset_3    0.000201  -0.001237  \n",
      "Asset_4    0.000812  -0.000226  \n",
      "Asset_5   -0.001505  -0.001041  \n",
      "...             ...        ...  \n",
      "Asset_96  -0.001338   0.000953  \n",
      "Asset_97   0.001204  -0.000716  \n",
      "Asset_98   0.000485   0.000468  \n",
      "Asset_99   0.008864   0.000632  \n",
      "Asset_100  0.000632   0.009611  \n",
      "\n",
      "[100 rows x 100 columns]\n"
     ]
    }
   ],
   "source": [
    "\n",
    "# Set the dimensions\n",
    "T = 1000  # Number of time periods\n",
    "N = 100   # Number of assets\n",
    "\n",
    "# remove daqp and quadprog solver from the list of usable solvers if not already done\n",
    "\n",
    "# Generate a random mean vector and covariance matrix for the multivariate normal distribution\n",
    "\n",
    "# Set the random seed for reproducibility\n",
    "np.random.seed(0)\n",
    "\n",
    "# Generate the mean vector and covariance matrix\n",
    "\n",
    "mean = np.random.randn(N) * 0.01 \n",
    "random_matrix = np.random.randn(N, N)*0.01\n",
    "cov = random_matrix @ random_matrix.T # create a positive semi-definite matrix. In practice positive definite, because stocks are not perfectly correlated\n",
    "# for bigger matrices, use additional approximation for the covariance matrix, e.g. Higham (2002) algorithm or something faster.\n",
    "\n",
    "\n",
    "# typical daily returns 1%\n",
    "# typical daily volatility 1%, variance 10^-4\n",
    "\n",
    "\n",
    "\n",
    "# mean = <your code here>\n",
    "# cov = <your code here>\n",
    "\n",
    "# Generate the Multivariate-Normal random dataset\n",
    "data = np.random.multivariate_normal(mean, cov, size=T)\n",
    "\n",
    "# Convert the dataset to a DataFrame for easier manipulation\n",
    "df = pd.DataFrame(data, columns=[f'Asset_{i+1}' for i in range(N)])\n",
    "\n",
    "# Compute the vector of expected returns (mean returns) from df\n",
    "#q =  np.mean(data, axis=0)\n",
    "\n",
    "#q = np.exp(np.log(1 + df).mean(axis=0)) - 1\n",
    "\n",
    "scalefactor = 1\n",
    "expected_return = ExpectedReturn(method = 'geometric', scalefactor = scalefactor)\n",
    "q = expected_return.estimate(X=df, inplace=False)\n",
    "\n",
    "\n",
    "# Compute the covariance matrix from df\n",
    "#P = np.cov(data, rowvar=False)\n",
    "\n",
    "covariance = Covariance(method = 'pearson')\n",
    "covariance.estimate(X=df, inplace=True)\n",
    "P = covariance.matrix\n",
    "\n",
    "\n",
    "# Display the results\n",
    "print(\"Vector of expected returns (q):\") # typical daily returns 1%\n",
    "print(q)\n",
    "\n",
    "print(\"\\nCovariance matrix (P):\") # typical daily volatility 1%, variance 10^-4\n",
    "print(P)"
   ]
  },
  {
   "cell_type": "code",
   "execution_count": 17,
   "metadata": {},
   "outputs": [
    {
     "data": {
      "text/plain": [
       "array([[ 0.01029453,  0.00080807,  0.00018417, ...,  0.00169781,\n",
       "         0.00012145, -0.00104138],\n",
       "       [ 0.00080807,  0.00878875,  0.0013538 , ...,  0.00108371,\n",
       "         0.00012731,  0.00024923],\n",
       "       [ 0.00018417,  0.0013538 ,  0.00902655, ...,  0.00013418,\n",
       "         0.00020117, -0.00123718],\n",
       "       ...,\n",
       "       [ 0.00169781,  0.00108371,  0.00013418, ...,  0.01206623,\n",
       "         0.00048459,  0.00046833],\n",
       "       [ 0.00012145,  0.00012731,  0.00020117, ...,  0.00048459,\n",
       "         0.00886367,  0.00063175],\n",
       "       [-0.00104138,  0.00024923, -0.00123718, ...,  0.00046833,\n",
       "         0.00063175,  0.00961142]], shape=(100, 100))"
      ]
     },
     "execution_count": 17,
     "metadata": {},
     "output_type": "execute_result"
    }
   ],
   "source": [
    "P.to_numpy()"
   ]
  },
  {
   "cell_type": "markdown",
   "metadata": {},
   "source": [
    "### 1.b)\n",
    "(3 points)\n",
    "\n",
    "Instantiate a constraints object by injecting column names of the data created in 1.a) as ids and add:\n",
    "- a budget constaint (i.e., asset weights have to sum to one)\n",
    "- lower bounds of 0.0 for all assets\n",
    "- upper bounds of 0.2 for all assets\n",
    "- group contraints such that the sum of the weights of the first 30 assets is <= 0.3, the sum of assets 31 to 60 is <= 0.4 and the sum of assets 61 to 100 is <= 0.5"
   ]
  },
  {
   "cell_type": "markdown",
   "metadata": {},
   "source": []
  },
  {
   "cell_type": "code",
   "execution_count": 18,
   "metadata": {},
   "outputs": [
    {
     "data": {
      "text/plain": [
       "{'G':    Asset_1  Asset_2  Asset_3  Asset_4  Asset_5  Asset_6  Asset_7  Asset_8  \\\n",
       " 0      1.0      1.0      1.0      1.0      1.0      1.0      1.0      1.0   \n",
       " 1      0.0      0.0      0.0      0.0      0.0      0.0      0.0      0.0   \n",
       " 2      0.0      0.0      0.0      0.0      0.0      0.0      0.0      0.0   \n",
       " \n",
       "    Asset_9  Asset_10  ...  Asset_91  Asset_92  Asset_93  Asset_94  Asset_95  \\\n",
       " 0      1.0       1.0  ...       0.0       0.0       0.0       0.0       0.0   \n",
       " 1      0.0       0.0  ...       0.0       0.0       0.0       0.0       0.0   \n",
       " 2      0.0       0.0  ...       1.0       1.0       1.0       1.0       1.0   \n",
       " \n",
       "    Asset_96  Asset_97  Asset_98  Asset_99  Asset_100  \n",
       " 0       0.0       0.0       0.0       0.0        0.0  \n",
       " 1       0.0       0.0       0.0       0.0        0.0  \n",
       " 2       1.0       1.0       1.0       1.0        1.0  \n",
       " \n",
       " [3 rows x 100 columns],\n",
       " 'sense': 0    <=\n",
       " dtype: object,\n",
       " 'rhs': 0    0.3\n",
       " 1    0.4\n",
       " 2    0.5\n",
       " dtype: float64}"
      ]
     },
     "execution_count": 18,
     "metadata": {},
     "output_type": "execute_result"
    }
   ],
   "source": [
    "# Instantiate the Constraints class\n",
    "constraints = Constraints(ids = df.columns.tolist())\n",
    "\n",
    "\n",
    "\n",
    "# Add budget constraint\n",
    "#<your code here>\n",
    "\n",
    "#constraints.add_budget_constraint()\n",
    "constraints.add_budget(rhs=1, sense='=')\n",
    "\n",
    "# Add box constraints (i.e., lower and upper bounds)\n",
    "#<your code here>\n",
    "\n",
    "constraints.add_box(lower=0, upper=0.2)\n",
    "\n",
    "\n",
    "# Add linear constraints\n",
    "#<your code here> G*x <= h\n",
    "G = pd.DataFrame(np.zeros((3, N)), columns=constraints.ids)\n",
    "G.iloc[0, 0:30] = 1\n",
    "G.iloc[1, 30:60] = 1\n",
    "G.iloc[2, 60:N] = 1\n",
    "h = pd.Series([0.3, 0.4, 0.5])\n",
    "constraints.add_linear(G=G, sense='<=', rhs=h)\n",
    "\n",
    "constraints.budget\n",
    "constraints.box\n",
    "constraints.linear"
   ]
  },
  {
   "cell_type": "markdown",
   "metadata": {},
   "source": [
    "### 1.c) \n",
    "(4 points)\n",
    "\n",
    "Solve a Mean-Variance optimization problem (using coefficients P and q in the objective function) which satisfies the above defined constraints.\n",
    "Repeat the task for all open-source solvers in qpsolvers and compare the results in terms of:\n",
    "\n",
    "- runtime\n",
    "- accuracy: value of the primal problem.\n",
    "- reliability: are all constarints fulfilled? Extract primal resisduals, dual residuals and duality gap.\n",
    "\n",
    "Generate a DataFrame with the solvers as column names and the following row index: 'solution_found': bool, 'objective': float, 'primal_residual': float, 'dual_residual': float, 'duality_gap': float, 'runtime': float.\n",
    "\n",
    "Put NA's for solvers that failed for some reason (e.g., unable to install the package or solvers throws an error during execution). \n",
    "\n",
    "\n"
   ]
  },
  {
   "cell_type": "code",
   "execution_count": 20,
   "metadata": {},
   "outputs": [
    {
     "name": "stdout",
     "output_type": "stream",
     "text": [
      "quadprog: -0.012904197353319132\n",
      "Elapsed time: 0.005404233932495117\n",
      "osqp: -0.013297495913146457\n",
      "Elapsed time: 0.0055387020111083984\n",
      "highs: -0.012904197353315284\n",
      "Elapsed time: 0.005469799041748047\n",
      "gurobi: -0.012904197175937618\n",
      "Elapsed time: 0.016911983489990234\n",
      "mosek: -0.012904197304984526\n",
      "Elapsed time: 0.029039382934570312\n",
      "daqp: -0.012904197374840993\n",
      "Elapsed time: 0.002952098846435547\n",
      "cvxopt: -0.012904192899859744\n",
      "Elapsed time: 0.12285971641540527\n",
      "qpalm: -0.012911026198373381\n",
      "Elapsed time: 0.011947870254516602\n",
      "[-2.32734406e-06 -5.71543202e-06  6.16683931e-07  1.00052018e-01\n",
      "  2.12462385e-06 -3.81885096e-06 -1.75849828e-06 -1.52848754e-07\n",
      "  8.92982713e-07 -5.32468440e-07  7.37433464e-07 -3.24018273e-06\n",
      " -5.32357658e-06 -3.46378686e-06 -3.85763032e-06  1.03318677e-05\n",
      "  3.03763085e-07 -3.95068691e-07 -6.04397742e-06 -4.16061643e-06\n",
      "  6.29008486e-06  1.70287089e-07  6.92691922e-08 -3.27090309e-06\n",
      "  1.99999819e-01 -8.46151757e-06 -7.86758720e-06 -3.11912352e-06\n",
      " -1.12978794e-07 -9.96596546e-06 -2.71935517e-06 -1.15049374e-05\n",
      " -3.20392397e-06 -8.80226209e-06 -9.82757918e-06 -2.00758708e-06\n",
      "  5.03508948e-02 -1.67838730e-06 -3.64855850e-06  1.82133697e-07\n",
      " -8.31359184e-06  6.66218767e-07 -7.03632112e-06  1.75527872e-01\n",
      " -1.13244831e-06 -4.67330258e-06 -3.20038614e-06 -9.96848990e-06\n",
      " -2.96652345e-06 -4.25952034e-06 -5.59576468e-06 -4.41088467e-06\n",
      " -4.50778037e-06 -1.02935766e-05 -4.96970742e-06  3.57484950e-02\n",
      " -3.67224018e-06 -4.26866137e-07 -2.74276403e-06  6.92831671e-08\n",
      "  4.85010955e-06 -1.88528336e-05 -9.96275979e-06 -1.50573753e-05\n",
      " -1.16252672e-06 -9.75255978e-06 -1.44052267e-05  1.23305529e-06\n",
      " -9.86869224e-08 -7.40266544e-06 -8.97290772e-06 -1.56143790e-05\n",
      " -4.83565971e-07 -5.98392467e-06 -6.36275814e-07 -7.33540774e-06\n",
      "  5.27104836e-07 -8.59481473e-06 -4.23311512e-06 -1.00617745e-05\n",
      " -1.01738851e-05 -4.88372059e-06 -1.62225879e-05 -1.11316818e-05\n",
      "  1.41141771e-01  1.99996640e-01  6.85697182e-02 -2.79512171e-06\n",
      " -1.49355283e-05 -6.93010374e-06 -1.37582781e-06  1.73132453e-07\n",
      " -6.33222551e-06 -1.23606196e-05 -1.83364069e-06 -2.34510604e-06\n",
      " -1.55059260e-06  2.90193222e-02 -1.52131395e-06 -7.54161176e-06]\n"
     ]
    }
   ],
   "source": [
    "# Extract the constraints in the format required by the solver\n",
    "import time\n",
    "GhAb = constraints.to_GhAb()\n",
    "\n",
    "# Loop over solvers, instantiate the quadratic program, solve it and store the results\n",
    "#<your code here>\n",
    "\n",
    "risk_aversion = 3\n",
    "# initialize output dictionary\n",
    "results = {}\n",
    "\n",
    "for solver in USABLE_SOLVERS:\n",
    "    qp = QuadraticProgram(\n",
    "        P = P.to_numpy() * risk_aversion,\n",
    "        q = q.to_numpy() * -1,\n",
    "        G = GhAb['G'],\n",
    "        h = GhAb['h'],\n",
    "        A = GhAb['A'],\n",
    "        #b = GhAb['b'],\n",
    "        b = np.array([GhAb['b']]), # convert to numpy array for gurobi\n",
    "        lb = constraints.box['lower'].to_numpy(),\n",
    "        ub = constraints.box['upper'].to_numpy(),\n",
    "        solver = solver,\n",
    "    )\n",
    "    start_time = time.time()\n",
    "    qp.solve()\n",
    "    end_time = time.time()\n",
    "    elapsed_time = end_time - start_time\n",
    "    solution = qp.results.get('solution')\n",
    "    print(f\"{solver}: {qp.objective_value()}\")\n",
    "    print(f\"Elapsed time: {elapsed_time}\")\n",
    "    # store the results in a dict of dicts\n",
    "    results[solver] = {\n",
    "        'is_feasible': qp.is_feasible(),\n",
    "        #'status': solution.status,\n",
    "        'objective_value': qp.objective_value(),\n",
    "        #'solution': solution,\n",
    "        #'solution_time': solution.solve_time,\n",
    "        'solution_found': solution.found,\n",
    "        'primal_residual': solution.primal_residual(),\n",
    "        'dual_residual': solution.dual_residual(),\n",
    "        'duality_gap': solution.duality_gap(),#[0],\n",
    "        'elapsed_time': elapsed_time,\n",
    "    }\n",
    "    \n",
    "\n",
    "\n",
    "################################################################\n",
    "# daqp fails with 800 stocks\n",
    "################################################################\n",
    "# print weights\n",
    "\n",
    "print(solution.x)\n"
   ]
  },
  {
   "cell_type": "markdown",
   "metadata": {},
   "source": [
    "Print and visualize the results"
   ]
  },
  {
   "cell_type": "code",
   "execution_count": 21,
   "metadata": {},
   "outputs": [
    {
     "data": {
      "application/vnd.microsoft.datawrangler.viewer.v0+json": {
       "columns": [
        {
         "name": "index",
         "rawType": "object",
         "type": "string"
        },
        {
         "name": "is_feasible",
         "rawType": "object",
         "type": "unknown"
        },
        {
         "name": "objective_value",
         "rawType": "object",
         "type": "unknown"
        },
        {
         "name": "solution_found",
         "rawType": "object",
         "type": "unknown"
        },
        {
         "name": "primal_residual",
         "rawType": "object",
         "type": "unknown"
        },
        {
         "name": "dual_residual",
         "rawType": "object",
         "type": "unknown"
        },
        {
         "name": "duality_gap",
         "rawType": "object",
         "type": "unknown"
        },
        {
         "name": "elapsed_time",
         "rawType": "object",
         "type": "unknown"
        }
       ],
       "conversionMethod": "pd.DataFrame",
       "ref": "8f74ff82-eadc-4988-ab15-b466af60a215",
       "rows": [
        [
         "quadprog",
         "True",
         "-0.012904197353319132",
         "True",
         "1.176836406102666e-14",
         "8.90620303201084e-12",
         "7.555902518247004e-14",
         "0.005404233932495117"
        ],
        [
         "osqp",
         "True",
         "-0.013297495913146457",
         "True",
         "0.00097980385194",
         "5.254618088521473e-05",
         "0.00037994633377462397",
         "0.0055387020111083984"
        ],
        [
         "highs",
         "True",
         "-0.012904197353315284",
         "True",
         "2.220446049250313e-16",
         "1.9999999999881224e-08",
         "1.5003024330046202e-08",
         "0.005469799041748047"
        ],
        [
         "gurobi",
         "True",
         "-0.012904197175937618",
         "True",
         "6.661338147750939e-16",
         "6.615866162199002e-10",
         "7.30917686401697e-11",
         "0.016911983489990234"
        ],
        [
         "mosek",
         "True",
         "-0.012904197304984526",
         "True",
         "4.498179606571284e-12",
         "1.6471546349094979e-13",
         "5.397857800928246e-11",
         "0.029039382934570312"
        ],
        [
         "daqp",
         "True",
         "-0.012904197374840993",
         "True",
         "2.3330921639086455e-09",
         "1.2698175844150228e-15",
         "2.1521984281541728e-11",
         "0.002952098846435547"
        ],
        [
         "cvxopt",
         "True",
         "-0.012904192899859744",
         "True",
         "0.0",
         "4.7271214720367993e-17",
         "5.043792557224425e-09",
         "0.12285971641540527"
        ],
        [
         "qpalm",
         "True",
         "-0.012911026198373381",
         "True",
         "1.8852833637320702e-05",
         "2.908566305338811e-09",
         "6.828321458437515e-06",
         "0.011947870254516602"
        ]
       ],
       "shape": {
        "columns": 7,
        "rows": 8
       }
      },
      "text/html": [
       "<div>\n",
       "<style scoped>\n",
       "    .dataframe tbody tr th:only-of-type {\n",
       "        vertical-align: middle;\n",
       "    }\n",
       "\n",
       "    .dataframe tbody tr th {\n",
       "        vertical-align: top;\n",
       "    }\n",
       "\n",
       "    .dataframe thead th {\n",
       "        text-align: right;\n",
       "    }\n",
       "</style>\n",
       "<table border=\"1\" class=\"dataframe\">\n",
       "  <thead>\n",
       "    <tr style=\"text-align: right;\">\n",
       "      <th></th>\n",
       "      <th>is_feasible</th>\n",
       "      <th>objective_value</th>\n",
       "      <th>solution_found</th>\n",
       "      <th>primal_residual</th>\n",
       "      <th>dual_residual</th>\n",
       "      <th>duality_gap</th>\n",
       "      <th>elapsed_time</th>\n",
       "    </tr>\n",
       "  </thead>\n",
       "  <tbody>\n",
       "    <tr>\n",
       "      <th>quadprog</th>\n",
       "      <td>True</td>\n",
       "      <td>-0.012904</td>\n",
       "      <td>True</td>\n",
       "      <td>0.0</td>\n",
       "      <td>0.0</td>\n",
       "      <td>0.0</td>\n",
       "      <td>0.005404</td>\n",
       "    </tr>\n",
       "    <tr>\n",
       "      <th>osqp</th>\n",
       "      <td>True</td>\n",
       "      <td>-0.013297</td>\n",
       "      <td>True</td>\n",
       "      <td>0.00098</td>\n",
       "      <td>0.000053</td>\n",
       "      <td>0.00038</td>\n",
       "      <td>0.005539</td>\n",
       "    </tr>\n",
       "    <tr>\n",
       "      <th>highs</th>\n",
       "      <td>True</td>\n",
       "      <td>-0.012904</td>\n",
       "      <td>True</td>\n",
       "      <td>0.0</td>\n",
       "      <td>0.0</td>\n",
       "      <td>0.0</td>\n",
       "      <td>0.00547</td>\n",
       "    </tr>\n",
       "    <tr>\n",
       "      <th>gurobi</th>\n",
       "      <td>True</td>\n",
       "      <td>-0.012904</td>\n",
       "      <td>True</td>\n",
       "      <td>0.0</td>\n",
       "      <td>0.0</td>\n",
       "      <td>0.0</td>\n",
       "      <td>0.016912</td>\n",
       "    </tr>\n",
       "    <tr>\n",
       "      <th>mosek</th>\n",
       "      <td>True</td>\n",
       "      <td>-0.012904</td>\n",
       "      <td>True</td>\n",
       "      <td>0.0</td>\n",
       "      <td>0.0</td>\n",
       "      <td>0.0</td>\n",
       "      <td>0.029039</td>\n",
       "    </tr>\n",
       "    <tr>\n",
       "      <th>daqp</th>\n",
       "      <td>True</td>\n",
       "      <td>-0.012904</td>\n",
       "      <td>True</td>\n",
       "      <td>0.0</td>\n",
       "      <td>0.0</td>\n",
       "      <td>0.0</td>\n",
       "      <td>0.002952</td>\n",
       "    </tr>\n",
       "    <tr>\n",
       "      <th>cvxopt</th>\n",
       "      <td>True</td>\n",
       "      <td>-0.012904</td>\n",
       "      <td>True</td>\n",
       "      <td>0.0</td>\n",
       "      <td>0.0</td>\n",
       "      <td>0.0</td>\n",
       "      <td>0.12286</td>\n",
       "    </tr>\n",
       "    <tr>\n",
       "      <th>qpalm</th>\n",
       "      <td>True</td>\n",
       "      <td>-0.012911</td>\n",
       "      <td>True</td>\n",
       "      <td>0.000019</td>\n",
       "      <td>0.0</td>\n",
       "      <td>0.000007</td>\n",
       "      <td>0.011948</td>\n",
       "    </tr>\n",
       "  </tbody>\n",
       "</table>\n",
       "</div>"
      ],
      "text/plain": [
       "         is_feasible objective_value solution_found primal_residual  \\\n",
       "quadprog        True       -0.012904           True             0.0   \n",
       "osqp            True       -0.013297           True         0.00098   \n",
       "highs           True       -0.012904           True             0.0   \n",
       "gurobi          True       -0.012904           True             0.0   \n",
       "mosek           True       -0.012904           True             0.0   \n",
       "daqp            True       -0.012904           True             0.0   \n",
       "cvxopt          True       -0.012904           True             0.0   \n",
       "qpalm           True       -0.012911           True        0.000019   \n",
       "\n",
       "         dual_residual duality_gap elapsed_time  \n",
       "quadprog           0.0         0.0     0.005404  \n",
       "osqp          0.000053     0.00038     0.005539  \n",
       "highs              0.0         0.0      0.00547  \n",
       "gurobi             0.0         0.0     0.016912  \n",
       "mosek              0.0         0.0     0.029039  \n",
       "daqp               0.0         0.0     0.002952  \n",
       "cvxopt             0.0         0.0      0.12286  \n",
       "qpalm              0.0    0.000007     0.011948  "
      ]
     },
     "execution_count": 21,
     "metadata": {},
     "output_type": "execute_result"
    }
   ],
   "source": [
    "#<your code here>\n",
    "# print the results in a table format\n",
    "results_df = pd.DataFrame(results).T\n",
    "results_df\n"
   ]
  },
  {
   "cell_type": "markdown",
   "metadata": {},
   "source": [
    "## Check the results"
   ]
  },
  {
   "cell_type": "code",
   "execution_count": 22,
   "metadata": {},
   "outputs": [
    {
     "name": "stdout",
     "output_type": "stream",
     "text": [
      "sum:  1.0000000932567212\n",
      "max:  0.1999998188331282\n",
      "min:  -1.8852833637320702e-05\n",
      "sum of weights in each group:  [0.29999979 0.26150662 0.43849369]\n"
     ]
    }
   ],
   "source": [
    "# check the sum of the weights is equal to 1\n",
    "print(\"sum: \", np.sum(solution.x))\n",
    "# check no weight is bigger than 0.2\n",
    "print(\"max: \", np.max(solution.x))\n",
    "# check no weight is smaller than 0\n",
    "print(\"min: \", np.min(solution.x))\n",
    "#print sum of weights in each group: 0.3, 0.4, 0.5\n",
    "\n",
    "print(\"sum of weights in each group: \", np.dot(G, solution.x))"
   ]
  },
  {
   "cell_type": "markdown",
   "metadata": {},
   "source": [
    "## 2. Analytical Solution to Minimum-Variance Problem\n",
    "\n",
    "(5 points)\n",
    "\n",
    "- Create a `MinVariance` class that follows the structure of the `MeanVariance` class.\n",
    "- Implement the `solve` method in `MinVariance` such that if `solver_name = 'analytical'`, the analytical solution is computed and stored within the object (if such a solution exists). If not, call the `solve` method from the parent class.\n",
    "- Create a `Constraints` object by injecting the same ids as in part 1.b) and add a budget constraint.\n",
    "- Instantiate a `MinVariance` object by setting `solver_name = 'analytical'` and passing instances of `Constraints` and `Covariance` as arguments.\n",
    "- Create an `OptimizationData` object that contains an element `return_series`, which consists of the synthetic data generated in part 1.a).\n",
    "- Solve the optimization problem using the created `MinVariance` object and compare the results to those obtained in part 1.c).\n"
   ]
  },
  {
   "cell_type": "code",
   "execution_count": 26,
   "metadata": {},
   "outputs": [
    {
     "name": "stdout",
     "output_type": "stream",
     "text": [
      "Optimal Weights: [-0.03973384  0.02556432  0.04168659  0.14378887 -0.07605087 -0.06821528\n",
      " -0.04270917  0.0153855   0.02619449 -0.01558827  0.04210866  0.07953279\n",
      "  0.01983386 -0.0297907  -0.00459884  0.12365363 -0.06110229  0.1034879\n",
      " -0.08934887  0.02114829  0.09690074 -0.10895595 -0.04332748 -0.02157568\n",
      " -0.01608325 -0.00922257 -0.0224109   0.05655577  0.06312939 -0.03574108\n",
      "  0.00532272 -0.10366038 -0.08188086  0.0240462   0.10234561  0.02940148\n",
      " -0.08968455  0.01855233 -0.07503303 -0.0716256   0.06260822 -0.00307044\n",
      " -0.02134275 -0.00189171  0.09503373  0.02120163  0.04589214 -0.03079066\n",
      "  0.07272494  0.08168427  0.1297631  -0.01454735 -0.03502958 -0.10093688\n",
      "  0.05285201 -0.09593372  0.04834424 -0.0682054   0.03440751 -0.1256212\n",
      "  0.00023455  0.02468415 -0.11157215  0.02386584  0.01407934  0.07652248\n",
      "  0.14208579  0.06849467  0.01625084  0.01424443  0.00213562  0.1159508\n",
      " -0.00568389  0.02212842  0.06749733  0.04697547  0.03025332  0.02084003\n",
      "  0.06405058  0.00334602  0.01765324 -0.01239693 -0.02840639 -0.00303917\n",
      " -0.024504    0.02652766  0.07722406 -0.07583242 -0.00445789 -0.03653749\n",
      "  0.08426711  0.06096054  0.14117485  0.06458657 -0.01570505  0.00110077\n",
      " -0.01470437  0.01364274  0.02184018 -0.00921939]\n"
     ]
    }
   ],
   "source": [
    "# Define class MinVariance\n",
    "class MinVariance(Optimization):\n",
    "\n",
    "    def __init__(self,\n",
    "                 constraints: Constraints,\n",
    "                 covariance: Optional[Covariance] = None,\n",
    "                 **kwargs):\n",
    "        super().__init__(\n",
    "            constraints=constraints,\n",
    "            **kwargs\n",
    "        )\n",
    "        self.covariance = Covariance() if covariance is None else covariance\n",
    "\n",
    "    def set_objective(self, optimization_data: OptimizationData) -> None:\n",
    "        #<your code here>\n",
    "        P = np.array(self.covariance.data)\n",
    "        # Ensure return series is a numpy array\n",
    "        q = np.array(optimization_data.return_series)\n",
    "        \n",
    "        # Check if P and q are correctly formatted\n",
    "        if P is None or q is None:\n",
    "            raise ValueError(\"P and q must be provided.\")\n",
    "        \n",
    "        self.objective = Objective(\n",
    "            P=P,\n",
    "            q=q\n",
    "        )\n",
    "\n",
    "      \n",
    "\n",
    "    def solve(self) -> None:\n",
    "        if self.params.get('solver_name') == 'analytical':\n",
    "            #<your code here>\n",
    "            Sigma = self.covariance\n",
    "            ones = np.ones(Sigma.shape[0])\n",
    "            \n",
    "            try:\n",
    "                inv_Sigma = np.linalg.inv(Sigma)\n",
    "                weights = inv_Sigma @ ones / (ones.T @ inv_Sigma @ ones)\n",
    "                self.results[\"weights\"] = weights\n",
    "            except np.linalg.LinAlgError:\n",
    "                print(\"Covariance matrix is singular, falling back to numerical solution.\")\n",
    "                return super().solve()\n",
    " #           return None\n",
    "        else:\n",
    "            return super().solve()\n",
    "\n",
    "\n",
    "# Create a constraints object with just a budget constraint\n",
    "#<your code here>\n",
    "constraints = Constraints(ids = df.columns.tolist())\n",
    "constraints.add_budget(rhs=1, sense='=')\n",
    "# Instantiate the MinVariance class\n",
    "#<your code here>\n",
    "min_var = MinVariance(constraints=constraints, covariance=cov, solver_name='analytical')\n",
    "#min_var = MinVariance(constraints=constraints, covariance=cov, solver_name='any')\n",
    "\n",
    "# Prepare the optimization data and prepare the optimization problem\n",
    "#<your code here>\n",
    "optimization_data = OptimizationData(return_series=q)\n",
    "min_var.set_objective(optimization_data)\n",
    "# Solve the optimization problem and print the weights\n",
    "#<your code here>\n",
    "min_var.solve()\n",
    "print(\"Optimal Weights:\", min_var.results['weights'])"
   ]
  },
  {
   "cell_type": "code",
   "execution_count": 34,
   "metadata": {},
   "outputs": [
    {
     "data": {
      "text/plain": [
       "np.float64(0.9999999999999999)"
      ]
     },
     "execution_count": 34,
     "metadata": {},
     "output_type": "execute_result"
    }
   ],
   "source": [
    "sum(min_var.results['weights'])\n"
   ]
  },
  {
   "cell_type": "code",
   "execution_count": 31,
   "metadata": {},
   "outputs": [
    {
     "name": "stdout",
     "output_type": "stream",
     "text": [
      "Optimal Weights: {'Asset_1': -282.17409729693713, 'Asset_2': 241.88832041092022, 'Asset_3': 219.2926108777159, 'Asset_4': 606.795009586757, 'Asset_5': -583.4749227326205, 'Asset_6': 116.27312820949254, 'Asset_7': -268.33729924417605, 'Asset_8': 50.921517314722415, 'Asset_9': 534.0209371112279, 'Asset_10': 15.710382399023256, 'Asset_11': -196.76182474262416, 'Asset_12': 296.04565917449344, 'Asset_13': 522.7313228572432, 'Asset_14': 76.29294915154551, 'Asset_15': 369.9711385087102, 'Asset_16': -131.46445741910446, 'Asset_17': -286.665104324881, 'Asset_18': 182.5602596865112, 'Asset_19': -953.7515921956609, 'Asset_20': 421.33666879102503, 'Asset_21': 93.43958577275079, 'Asset_22': -539.2273920329513, 'Asset_23': -208.39161166492573, 'Asset_24': -10.646630436494439, 'Asset_25': -424.25591954791594, 'Asset_26': -109.61999827404283, 'Asset_27': -307.53990426068935, 'Asset_28': 855.0137629592241, 'Asset_29': 466.3798243385457, 'Asset_30': -302.46560115852634, 'Asset_31': 94.73740960640346, 'Asset_32': -277.6889156063604, 'Asset_33': -594.5982459743666, 'Asset_34': -86.32255047927791, 'Asset_35': 390.37089863985284, 'Asset_36': -138.31022210150363, 'Asset_37': -320.8003375652762, 'Asset_38': 371.491673087616, 'Asset_39': -71.00230546179768, 'Asset_40': -791.7502402127849, 'Asset_41': -142.76128521964208, 'Asset_42': 218.49348878045606, 'Asset_43': -19.309932702629897, 'Asset_44': -23.53598429768311, 'Asset_45': 571.1038829109262, 'Asset_46': 396.882801709875, 'Asset_47': 19.795199866319972, 'Asset_48': 408.8850733617779, 'Asset_49': 565.4448478879897, 'Asset_50': 484.00600453989233, 'Asset_51': 730.3154693477911, 'Asset_52': -399.18850342641736, 'Asset_53': -604.1835496456966, 'Asset_54': -96.55554196302586, 'Asset_55': 242.06544036903506, 'Asset_56': -552.3054080562441, 'Asset_57': -150.87298673052393, 'Asset_58': -608.4726106197563, 'Asset_59': -195.08914090739782, 'Asset_60': -1189.8576652714198, 'Asset_61': -240.608915338273, 'Asset_62': -363.0517291052454, 'Asset_63': -689.017053025314, 'Asset_64': 5.916215041536418, 'Asset_65': -252.36242219190243, 'Asset_66': 334.032412862936, 'Asset_67': 449.9611301581601, 'Asset_68': -226.20612169236642, 'Asset_69': 38.80906513287985, 'Asset_70': 440.9951844962673, 'Asset_71': -344.6709424188382, 'Asset_72': 456.25709157414946, 'Asset_73': -18.522629432639686, 'Asset_74': -30.730544097463476, 'Asset_75': 34.87439579472986, 'Asset_76': 34.29579687531132, 'Asset_77': 495.90675296017594, 'Asset_78': 471.9498863417181, 'Asset_79': 563.6561770292514, 'Asset_80': 514.6955635049155, 'Asset_81': 383.2224947998009, 'Asset_82': -227.55337001995926, 'Asset_83': -13.909191779805422, 'Asset_84': 238.28613434328193, 'Asset_85': -104.99406790343875, 'Asset_86': 124.07422434895227, 'Asset_87': 543.4865929885095, 'Asset_88': -605.3748658159941, 'Asset_89': -108.67461729851533, 'Asset_90': -722.2254982103038, 'Asset_91': 441.9501275889981, 'Asset_92': 180.06681095360625, 'Asset_93': 400.82578730230205, 'Asset_94': 450.555874278748, 'Asset_95': -303.28815175974086, 'Asset_96': 53.1952209374232, 'Asset_97': -222.99903837876465, 'Asset_98': -531.3411519797243, 'Asset_99': -98.62295707853337, 'Asset_100': -246.74315747238245}\n"
     ]
    }
   ],
   "source": [
    "min_var1 = MinVariance(constraints=constraints, covariance=cov, solver_name='any')\n",
    "min_var1.set_objective(optimization_data)\n",
    "# Solve the optimization problem and print the weights\n",
    "#<your code here>\n",
    "min_var1.solve()\n",
    "print(\"Optimal Weights:\", min_var1.results['weights'])"
   ]
  },
  {
   "cell_type": "code",
   "execution_count": 33,
   "metadata": {},
   "outputs": [
    {
     "data": {
      "text/plain": [
       "0.9999999989378807"
      ]
     },
     "execution_count": 33,
     "metadata": {},
     "output_type": "execute_result"
    }
   ],
   "source": [
    "sum(min_var1.results['weights'].values())\n"
   ]
  },
  {
   "cell_type": "code",
   "execution_count": null,
   "metadata": {},
   "outputs": [],
   "source": []
  }
 ],
 "metadata": {
  "kernelspec": {
   "display_name": "uzhpm25",
   "language": "python",
   "name": "python3"
  },
  "language_info": {
   "codemirror_mode": {
    "name": "ipython",
    "version": 3
   },
   "file_extension": ".py",
   "mimetype": "text/x-python",
   "name": "python",
   "nbconvert_exporter": "python",
   "pygments_lexer": "ipython3",
   "version": "3.10.16"
  }
 },
 "nbformat": 4,
 "nbformat_minor": 2
}
