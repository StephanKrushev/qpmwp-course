{
 "cells": [
  {
   "cell_type": "markdown",
   "metadata": {},
   "source": [
    "# Assignment 1\n",
    "\n",
    "Deadline: 19.03.2025, 12:00 CET\n",
    "\n",
    "<Add your name, student-id and emal address>\n",
    "Stephan Krushev, s09-727-090, stephan.krushev@gmail.com"
   ]
  },
  {
   "cell_type": "code",
   "execution_count": 1,
   "metadata": {},
   "outputs": [
    {
     "name": "stdout",
     "output_type": "stream",
     "text": [
      "/home/steph/Documents/Learning/UZH_Portfolio_Management_Python_FS2025/Code\n",
      "/home/steph/Documents/Learning/UZH_Portfolio_Management_Python_FS2025/Code/qpmwp-course/src\n"
     ]
    }
   ],
   "source": [
    "# Import standard libraries\n",
    "import os\n",
    "import sys\n",
    "import timeit # To compute runtimes\n",
    "from typing import Optional\n",
    "\n",
    "# Import third-party libraries\n",
    "import numpy as np\n",
    "import pandas as pd\n",
    "import matplotlib.pyplot as plt\n",
    "\n",
    "# Import local modules\n",
    "#project_root = os.path.dirname(os.path.dirname(os.getcwd()))   # Change this path if needed\n",
    "\n",
    "project_root =os.getcwd() # set in .vscode/settings.json\n",
    "print(project_root)\n",
    "\n",
    "\n",
    "src_path = os.path.join(project_root, 'qpmwp-course/src')\n",
    "sys.path.append(project_root)\n",
    "\n",
    "print(src_path)\n"
   ]
  },
  {
   "cell_type": "code",
   "execution_count": 2,
   "metadata": {},
   "outputs": [
    {
     "name": "stdout",
     "output_type": "stream",
     "text": [
      "{'cvxopt', 'mosek', 'osqp', 'quadprog', 'daqp', 'highs', 'qpalm', 'gurobi'}\n"
     ]
    }
   ],
   "source": [
    "sys.path.append(src_path)\n",
    "from estimation.covariance import Covariance\n",
    "from estimation.expected_return import ExpectedReturn\n",
    "from optimization.constraints import Constraints\n",
    "from optimization.optimization import Optimization, Objective\n",
    "from optimization.optimization_data import OptimizationData\n",
    "from optimization.quadratic_program import QuadraticProgram, USABLE_SOLVERS\n",
    "print(USABLE_SOLVERS) # edit in quaratic_program.py to add more solvers or subtract if needed, uncomment mosek and gurobi"
   ]
  },
  {
   "cell_type": "markdown",
   "metadata": {},
   "source": [
    "## 1. Solver Horse Race\n",
    "\n",
    "### 1.a)\n",
    "(3 points)\n",
    "\n",
    "Generate a Multivariate-Normal random dataset of dimension TxN, T=1000, N=100, and compute a vector of expected returns, q, and a covariance matrix, P, using classes ExpectedReturn and Covariance respectively."
   ]
  },
  {
   "cell_type": "code",
   "execution_count": 3,
   "metadata": {},
   "outputs": [],
   "source": [
    "\n",
    "# remove the follwoing solvers if using more than 800 stocks\n",
    "#USABLE_SOLVERS.remove('quadprog') \n",
    "#USABLE_SOLVERS.remove('daqp')\n",
    "#USABLE_SOLVERS.remove('mosek')\n",
    "#USABLE_SOLVERS.remove('gurobi')"
   ]
  },
  {
   "cell_type": "code",
   "execution_count": 4,
   "metadata": {},
   "outputs": [
    {
     "name": "stdout",
     "output_type": "stream",
     "text": [
      "Vector of expected returns (q):\n",
      "Asset_1      0.014602\n",
      "Asset_2     -0.000493\n",
      "Asset_3      0.001541\n",
      "Asset_4      0.020163\n",
      "Asset_5      0.007384\n",
      "               ...   \n",
      "Asset_96     0.001896\n",
      "Asset_97    -0.005400\n",
      "Asset_98     0.007971\n",
      "Asset_99    -0.007407\n",
      "Asset_100   -0.002762\n",
      "Length: 100, dtype: float64\n",
      "\n",
      "Covariance matrix (P):\n",
      "[[ 0.01029453  0.00080807  0.00018417 ...  0.00169781  0.00012145\n",
      "  -0.00104138]\n",
      " [ 0.00080807  0.00878875  0.0013538  ...  0.00108371  0.00012731\n",
      "   0.00024923]\n",
      " [ 0.00018417  0.0013538   0.00902655 ...  0.00013418  0.00020117\n",
      "  -0.00123718]\n",
      " ...\n",
      " [ 0.00169781  0.00108371  0.00013418 ...  0.01206623  0.00048459\n",
      "   0.00046833]\n",
      " [ 0.00012145  0.00012731  0.00020117 ...  0.00048459  0.00886367\n",
      "   0.00063175]\n",
      " [-0.00104138  0.00024923 -0.00123718 ...  0.00046833  0.00063175\n",
      "   0.00961142]]\n"
     ]
    }
   ],
   "source": [
    "\n",
    "# Set the dimensions\n",
    "T = 1000  # Number of time periods\n",
    "N = 100   # Number of assets\n",
    "\n",
    "# remove daqp and quadprog solver from the list of usable solvers if not already done\n",
    "\n",
    "# Generate a random mean vector and covariance matrix for the multivariate normal distribution\n",
    "\n",
    "# Set the random seed for reproducibility\n",
    "np.random.seed(0)\n",
    "\n",
    "# Generate the mean vector and covariance matrix\n",
    "\n",
    "mean = np.random.randn(N) * 0.01 \n",
    "random_matrix = np.random.randn(N, N)*0.01\n",
    "cov = random_matrix @ random_matrix.T # create a positive semi-definite matrix. In practice positive definite, because stocks are not perfectly correlated\n",
    "# for bigger matrices, use additional approximation for the covariance matrix, e.g. Higham (2002) algorithm or something faster.\n",
    "\n",
    "\n",
    "# typical daily returns 1%\n",
    "# typical daily volatility 1%, variance 10^-4\n",
    "\n",
    "\n",
    "\n",
    "# mean = <your code here>\n",
    "# cov = <your code here>\n",
    "\n",
    "# Generate the Multivariate-Normal random dataset\n",
    "data = np.random.multivariate_normal(mean, cov, size=T)\n",
    "\n",
    "# Convert the dataset to a DataFrame for easier manipulation\n",
    "df = pd.DataFrame(data, columns=[f'Asset_{i+1}' for i in range(N)])\n",
    "\n",
    "# Compute the vector of expected returns (mean returns) from df\n",
    "#q =  np.mean(data, axis=0)\n",
    "\n",
    "q = np.exp(np.log(1 + df).mean(axis=0)) - 1\n",
    "\n",
    "# Compute the covariance matrix from df\n",
    "P = np.cov(data, rowvar=False)\n",
    "\n",
    "# Display the results\n",
    "print(\"Vector of expected returns (q):\") # typical daily returns 1%\n",
    "print(q)\n",
    "\n",
    "print(\"\\nCovariance matrix (P):\") # typical daily volatility 1%, variance 10^-4\n",
    "print(P)"
   ]
  },
  {
   "cell_type": "markdown",
   "metadata": {},
   "source": [
    "### 1.b)\n",
    "(3 points)\n",
    "\n",
    "Instantiate a constraints object by injecting column names of the data created in 1.a) as ids and add:\n",
    "- a budget constaint (i.e., asset weights have to sum to one)\n",
    "- lower bounds of 0.0 for all assets\n",
    "- upper bounds of 0.2 for all assets\n",
    "- group contraints such that the sum of the weights of the first 30 assets is <= 0.3, the sum of assets 31 to 60 is <= 0.4 and the sum of assets 61 to 100 is <= 0.5"
   ]
  },
  {
   "cell_type": "markdown",
   "metadata": {},
   "source": []
  },
  {
   "cell_type": "code",
   "execution_count": 5,
   "metadata": {},
   "outputs": [
    {
     "data": {
      "text/plain": [
       "{'G':    Asset_1  Asset_2  Asset_3  Asset_4  Asset_5  Asset_6  Asset_7  Asset_8  \\\n",
       " 0      1.0      1.0      1.0      1.0      1.0      1.0      1.0      1.0   \n",
       " 1      0.0      0.0      0.0      0.0      0.0      0.0      0.0      0.0   \n",
       " 2      0.0      0.0      0.0      0.0      0.0      0.0      0.0      0.0   \n",
       " \n",
       "    Asset_9  Asset_10  ...  Asset_91  Asset_92  Asset_93  Asset_94  Asset_95  \\\n",
       " 0      1.0       1.0  ...       0.0       0.0       0.0       0.0       0.0   \n",
       " 1      0.0       0.0  ...       0.0       0.0       0.0       0.0       0.0   \n",
       " 2      0.0       0.0  ...       1.0       1.0       1.0       1.0       1.0   \n",
       " \n",
       "    Asset_96  Asset_97  Asset_98  Asset_99  Asset_100  \n",
       " 0       0.0       0.0       0.0       0.0        0.0  \n",
       " 1       0.0       0.0       0.0       0.0        0.0  \n",
       " 2       1.0       1.0       1.0       1.0        1.0  \n",
       " \n",
       " [3 rows x 100 columns],\n",
       " 'sense': 0    <=\n",
       " dtype: object,\n",
       " 'rhs': 0    0.3\n",
       " 1    0.4\n",
       " 2    0.5\n",
       " dtype: float64}"
      ]
     },
     "execution_count": 5,
     "metadata": {},
     "output_type": "execute_result"
    }
   ],
   "source": [
    "# Instantiate the Constraints class\n",
    "constraints = Constraints(ids = df.columns.tolist())\n",
    "\n",
    "\n",
    "\n",
    "# Add budget constraint\n",
    "#<your code here>\n",
    "\n",
    "#constraints.add_budget_constraint()\n",
    "constraints.add_budget(rhs=1, sense='=')\n",
    "\n",
    "# Add box constraints (i.e., lower and upper bounds)\n",
    "#<your code here>\n",
    "\n",
    "constraints.add_box(lower=0, upper=0.2)\n",
    "\n",
    "\n",
    "# Add linear constraints\n",
    "#<your code here> G*x <= h\n",
    "G = pd.DataFrame(np.zeros((3, N)), columns=constraints.ids)\n",
    "G.iloc[0, 0:30] = 1\n",
    "G.iloc[1, 30:60] = 1\n",
    "G.iloc[2, 60:N] = 1\n",
    "h = pd.Series([0.3, 0.4, 0.5])\n",
    "constraints.add_linear(G=G, sense='<=', rhs=h)\n",
    "\n",
    "constraints.budget\n",
    "constraints.box\n",
    "constraints.linear"
   ]
  },
  {
   "cell_type": "markdown",
   "metadata": {},
   "source": [
    "### 1.c) \n",
    "(4 points)\n",
    "\n",
    "Solve a Mean-Variance optimization problem (using coefficients P and q in the objective function) which satisfies the above defined constraints.\n",
    "Repeat the task for all open-source solvers in qpsolvers and compare the results in terms of:\n",
    "\n",
    "- runtime\n",
    "- accuracy: value of the primal problem.\n",
    "- reliability: are all constarints fulfilled? Extract primal resisduals, dual residuals and duality gap.\n",
    "\n",
    "Generate a DataFrame with the solvers as column names and the following row index: 'solution_found': bool, 'objective': float, 'primal_residual': float, 'dual_residual': float, 'duality_gap': float, 'runtime': float.\n",
    "\n",
    "Put NA's for solvers that failed for some reason (e.g., unable to install the package or solvers throws an error during execution). \n",
    "\n",
    "\n"
   ]
  },
  {
   "cell_type": "code",
   "execution_count": 6,
   "metadata": {},
   "outputs": [
    {
     "name": "stdout",
     "output_type": "stream",
     "text": [
      "cvxopt: -0.012904192899859744\n",
      "Elapsed time: 0.04244661331176758\n",
      "mosek: -0.012904197304984526\n",
      "Elapsed time: 0.05507516860961914\n",
      "osqp: -0.013107105170067126\n",
      "Elapsed time: 0.009341716766357422\n",
      "quadprog: -0.012904197353319132\n",
      "Elapsed time: 0.007252931594848633\n",
      "daqp: -0.012904197374840993\n",
      "Elapsed time: 0.0029532909393310547\n",
      "highs: -0.012904197353315284\n",
      "Elapsed time: 0.01625514030456543\n",
      "qpalm: -0.012911026198373381\n",
      "Elapsed time: 0.006988525390625\n",
      "Set parameter Username\n",
      "Set parameter LicenseID to value 2631927\n",
      "Academic license - for non-commercial use only - expires 2026-03-06\n",
      "gurobi: -0.012904197175937618\n",
      "Elapsed time: 0.060671329498291016\n",
      "[2.11671662e-09 5.57626627e-11 7.16319777e-11 9.99999654e-02\n",
      " 9.48470893e-11 3.88309197e-11 2.70984817e-10 5.44351127e-11\n",
      " 5.01452608e-11 5.93681514e-11 5.93154400e-11 6.77413783e-10\n",
      " 1.27071960e-10 4.69812270e-11 6.71089075e-11 5.05106854e-11\n",
      " 2.50801613e-10 4.88353892e-11 5.40967561e-11 4.02756594e-11\n",
      " 2.25804527e-11 7.69817758e-11 8.06551173e-11 4.11416629e-11\n",
      " 1.99999999e-01 3.03226117e-11 4.89466240e-11 4.67159793e-11\n",
      " 9.26253490e-11 3.05611003e-08 1.41616675e-10 1.11732900e-10\n",
      " 5.18041198e-11 3.76260013e-11 8.53157725e-11 9.03187036e-11\n",
      " 5.03031802e-02 1.54757947e-10 5.97474754e-11 8.57492845e-11\n",
      " 3.92685718e-11 4.00529379e-11 4.12763680e-11 1.75475753e-01\n",
      " 5.05734157e-11 6.47711729e-11 5.17026947e-11 1.61085668e-10\n",
      " 4.51369484e-11 9.45362428e-11 6.53329034e-11 1.29390982e-10\n",
      " 6.86609518e-11 5.14271071e-11 7.69030291e-11 3.57074169e-02\n",
      " 1.08772099e-10 2.28458134e-10 5.62465269e-11 7.74003502e-11\n",
      " 5.97685740e-11 5.97863594e-11 3.50634529e-11 3.45500865e-11\n",
      " 3.66220011e-10 6.99014986e-11 3.06893145e-11 1.77878682e-10\n",
      " 5.74091195e-11 1.55389978e-10 4.59016972e-09 4.56466186e-10\n",
      " 3.14552473e-10 3.93182785e-11 2.07875714e-10 6.88625956e-11\n",
      " 4.55611557e-11 5.15901177e-11 7.22439018e-11 5.94238746e-11\n",
      " 4.34680502e-11 3.70602172e-10 1.20949587e-10 4.01245459e-11\n",
      " 1.41080523e-01 1.99999995e-01 6.85016394e-02 9.78790031e-11\n",
      " 4.56908889e-11 1.34726554e-10 7.88608823e-11 5.25649625e-10\n",
      " 1.17481956e-10 1.27358061e-09 1.48628102e-10 1.93197017e-10\n",
      " 8.00543827e-11 2.89314792e-02 7.54834058e-11 1.11301741e-10]\n"
     ]
    }
   ],
   "source": [
    "# Extract the constraints in the format required by the solver\n",
    "import time\n",
    "GhAb = constraints.to_GhAb()\n",
    "\n",
    "# Loop over solvers, instantiate the quadratic program, solve it and store the results\n",
    "#<your code here>\n",
    "\n",
    "risk_aversion = 3\n",
    "# initialize output dictionary\n",
    "results = {}\n",
    "\n",
    "for solver in USABLE_SOLVERS:\n",
    "    qp = QuadraticProgram(\n",
    "        P = P * risk_aversion,\n",
    "        q = q.to_numpy() * -1,\n",
    "        G = GhAb['G'],\n",
    "        h = GhAb['h'],\n",
    "        A = GhAb['A'],\n",
    "        #b = GhAb['b'],\n",
    "        b = np.array([GhAb['b']]), # convert to numpy array for gurobi\n",
    "        lb = constraints.box['lower'].to_numpy(),\n",
    "        ub = constraints.box['upper'].to_numpy(),\n",
    "        solver = solver,\n",
    "    )\n",
    "    start_time = time.time()\n",
    "    qp.solve()\n",
    "    end_time = time.time()\n",
    "    elapsed_time = end_time - start_time\n",
    "    solution = qp.results.get('solution')\n",
    "    print(f\"{solver}: {qp.objective_value()}\")\n",
    "    print(f\"Elapsed time: {elapsed_time}\")\n",
    "    # store the results in a dict of dicts\n",
    "    results[solver] = {\n",
    "        'is_feasible': qp.is_feasible(),\n",
    "        #'status': solution.status,\n",
    "        'objective_value': qp.objective_value(),\n",
    "        #'solution': solution,\n",
    "        #'solution_time': solution.solve_time,\n",
    "        'solution_found': solution.found,\n",
    "        'primal_residual': solution.primal_residual(),\n",
    "        'dual_residual': solution.dual_residual(),\n",
    "        'duality_gap': solution.duality_gap(),#[0],\n",
    "        'elapsed_time': elapsed_time,\n",
    "    }\n",
    "    \n",
    "\n",
    "\n",
    "################################################################\n",
    "# daqp fails with 800 stocks\n",
    "################################################################\n",
    "# print weights\n",
    "\n",
    "print(solution.x)\n"
   ]
  },
  {
   "cell_type": "markdown",
   "metadata": {},
   "source": [
    "Print and visualize the results"
   ]
  },
  {
   "cell_type": "code",
   "execution_count": 9,
   "metadata": {},
   "outputs": [
    {
     "data": {
      "application/vnd.microsoft.datawrangler.viewer.v0+json": {
       "columns": [
        {
         "name": "index",
         "rawType": "object",
         "type": "string"
        },
        {
         "name": "is_feasible",
         "rawType": "object",
         "type": "unknown"
        },
        {
         "name": "objective_value",
         "rawType": "object",
         "type": "unknown"
        },
        {
         "name": "solution_found",
         "rawType": "object",
         "type": "unknown"
        },
        {
         "name": "primal_residual",
         "rawType": "object",
         "type": "unknown"
        },
        {
         "name": "dual_residual",
         "rawType": "object",
         "type": "unknown"
        },
        {
         "name": "duality_gap",
         "rawType": "object",
         "type": "unknown"
        },
        {
         "name": "elapsed_time",
         "rawType": "object",
         "type": "unknown"
        }
       ],
       "conversionMethod": "pd.DataFrame",
       "ref": "06a0a6d4-b167-4d47-9240-d569e950929a",
       "rows": [
        [
         "gurobi",
         "True",
         "-0.012904197175937618",
         "True",
         "6.661338147750939e-16",
         "6.615866162199002e-10",
         "7.30917686401697e-11",
         "0.05060243606567383"
        ],
        [
         "qpalm",
         "True",
         "-0.012911026198373381",
         "True",
         "1.8852833637320702e-05",
         "2.908566305338811e-09",
         "6.828321458437515e-06",
         "0.0072956085205078125"
        ],
        [
         "cvxopt",
         "True",
         "-0.012904192899859744",
         "True",
         "0.0",
         "4.7271214720367993e-17",
         "5.043792557224425e-09",
         "0.005648136138916016"
        ],
        [
         "quadprog",
         "True",
         "-0.012904197353319132",
         "True",
         "1.176836406102666e-14",
         "8.90620303201084e-12",
         "7.555902518247004e-14",
         "0.006966590881347656"
        ],
        [
         "osqp",
         "True",
         "-0.013297495913146457",
         "True",
         "0.00097980385194",
         "5.254618088521473e-05",
         "0.00037994633377462397",
         "0.004010915756225586"
        ],
        [
         "daqp",
         "True",
         "-0.012904197374840993",
         "True",
         "2.3330921639086455e-09",
         "1.2698175844150228e-15",
         "2.1521984281541728e-11",
         "0.002189159393310547"
        ],
        [
         "mosek",
         "True",
         "-0.012904197304984526",
         "True",
         "4.498179606571284e-12",
         "1.6471546349094979e-13",
         "5.397857800928246e-11",
         "0.04523515701293945"
        ],
        [
         "highs",
         "True",
         "-0.012904197353315284",
         "True",
         "2.220446049250313e-16",
         "1.9999999999881224e-08",
         "1.5003024330046202e-08",
         "0.011459827423095703"
        ]
       ],
       "shape": {
        "columns": 7,
        "rows": 8
       }
      },
      "text/html": [
       "<div>\n",
       "<style scoped>\n",
       "    .dataframe tbody tr th:only-of-type {\n",
       "        vertical-align: middle;\n",
       "    }\n",
       "\n",
       "    .dataframe tbody tr th {\n",
       "        vertical-align: top;\n",
       "    }\n",
       "\n",
       "    .dataframe thead th {\n",
       "        text-align: right;\n",
       "    }\n",
       "</style>\n",
       "<table border=\"1\" class=\"dataframe\">\n",
       "  <thead>\n",
       "    <tr style=\"text-align: right;\">\n",
       "      <th></th>\n",
       "      <th>is_feasible</th>\n",
       "      <th>objective_value</th>\n",
       "      <th>solution_found</th>\n",
       "      <th>primal_residual</th>\n",
       "      <th>dual_residual</th>\n",
       "      <th>duality_gap</th>\n",
       "      <th>elapsed_time</th>\n",
       "    </tr>\n",
       "  </thead>\n",
       "  <tbody>\n",
       "    <tr>\n",
       "      <th>gurobi</th>\n",
       "      <td>True</td>\n",
       "      <td>-0.012904</td>\n",
       "      <td>True</td>\n",
       "      <td>0.0</td>\n",
       "      <td>0.0</td>\n",
       "      <td>0.0</td>\n",
       "      <td>0.050602</td>\n",
       "    </tr>\n",
       "    <tr>\n",
       "      <th>qpalm</th>\n",
       "      <td>True</td>\n",
       "      <td>-0.012911</td>\n",
       "      <td>True</td>\n",
       "      <td>0.000019</td>\n",
       "      <td>0.0</td>\n",
       "      <td>0.000007</td>\n",
       "      <td>0.007296</td>\n",
       "    </tr>\n",
       "    <tr>\n",
       "      <th>cvxopt</th>\n",
       "      <td>True</td>\n",
       "      <td>-0.012904</td>\n",
       "      <td>True</td>\n",
       "      <td>0.0</td>\n",
       "      <td>0.0</td>\n",
       "      <td>0.0</td>\n",
       "      <td>0.005648</td>\n",
       "    </tr>\n",
       "    <tr>\n",
       "      <th>quadprog</th>\n",
       "      <td>True</td>\n",
       "      <td>-0.012904</td>\n",
       "      <td>True</td>\n",
       "      <td>0.0</td>\n",
       "      <td>0.0</td>\n",
       "      <td>0.0</td>\n",
       "      <td>0.006967</td>\n",
       "    </tr>\n",
       "    <tr>\n",
       "      <th>osqp</th>\n",
       "      <td>True</td>\n",
       "      <td>-0.013297</td>\n",
       "      <td>True</td>\n",
       "      <td>0.00098</td>\n",
       "      <td>0.000053</td>\n",
       "      <td>0.00038</td>\n",
       "      <td>0.004011</td>\n",
       "    </tr>\n",
       "    <tr>\n",
       "      <th>daqp</th>\n",
       "      <td>True</td>\n",
       "      <td>-0.012904</td>\n",
       "      <td>True</td>\n",
       "      <td>0.0</td>\n",
       "      <td>0.0</td>\n",
       "      <td>0.0</td>\n",
       "      <td>0.002189</td>\n",
       "    </tr>\n",
       "    <tr>\n",
       "      <th>mosek</th>\n",
       "      <td>True</td>\n",
       "      <td>-0.012904</td>\n",
       "      <td>True</td>\n",
       "      <td>0.0</td>\n",
       "      <td>0.0</td>\n",
       "      <td>0.0</td>\n",
       "      <td>0.045235</td>\n",
       "    </tr>\n",
       "    <tr>\n",
       "      <th>highs</th>\n",
       "      <td>True</td>\n",
       "      <td>-0.012904</td>\n",
       "      <td>True</td>\n",
       "      <td>0.0</td>\n",
       "      <td>0.0</td>\n",
       "      <td>0.0</td>\n",
       "      <td>0.01146</td>\n",
       "    </tr>\n",
       "  </tbody>\n",
       "</table>\n",
       "</div>"
      ],
      "text/plain": [
       "         is_feasible objective_value solution_found primal_residual  \\\n",
       "gurobi          True       -0.012904           True             0.0   \n",
       "qpalm           True       -0.012911           True        0.000019   \n",
       "cvxopt          True       -0.012904           True             0.0   \n",
       "quadprog        True       -0.012904           True             0.0   \n",
       "osqp            True       -0.013297           True         0.00098   \n",
       "daqp            True       -0.012904           True             0.0   \n",
       "mosek           True       -0.012904           True             0.0   \n",
       "highs           True       -0.012904           True             0.0   \n",
       "\n",
       "         dual_residual duality_gap elapsed_time  \n",
       "gurobi             0.0         0.0     0.050602  \n",
       "qpalm              0.0    0.000007     0.007296  \n",
       "cvxopt             0.0         0.0     0.005648  \n",
       "quadprog           0.0         0.0     0.006967  \n",
       "osqp          0.000053     0.00038     0.004011  \n",
       "daqp               0.0         0.0     0.002189  \n",
       "mosek              0.0         0.0     0.045235  \n",
       "highs              0.0         0.0      0.01146  "
      ]
     },
     "execution_count": 9,
     "metadata": {},
     "output_type": "execute_result"
    }
   ],
   "source": [
    "#<your code here>\n",
    "# print the results in a table format\n",
    "results_df = pd.DataFrame(results).T\n",
    "results_df\n"
   ]
  },
  {
   "cell_type": "markdown",
   "metadata": {},
   "source": [
    "## Check the results"
   ]
  },
  {
   "cell_type": "code",
   "execution_count": 10,
   "metadata": {},
   "outputs": [
    {
     "name": "stdout",
     "output_type": "stream",
     "text": [
      "sum:  1.0000000000000002\n",
      "max:  0.2\n",
      "min:  -1.3877787807814457e-17\n",
      "sum of weights in each group:  [0.3        0.26148634 0.43851366]\n"
     ]
    }
   ],
   "source": [
    "# check the sum of the weights is equal to 1\n",
    "print(\"sum: \", np.sum(solution.x))\n",
    "# check no weight is bigger than 0.2\n",
    "print(\"max: \", np.max(solution.x))\n",
    "# check no weight is smaller than 0\n",
    "print(\"min: \", np.min(solution.x))\n",
    "#print sum of weights in each group: 0.3, 0.4, 0.5\n",
    "\n",
    "print(\"sum of weights in each group: \", np.dot(G, solution.x))"
   ]
  },
  {
   "cell_type": "markdown",
   "metadata": {},
   "source": [
    "## Output for 5000 stocks:\n",
    "\n",
    "<div>\n",
    "<style scoped>\n",
    "    .dataframe tbody tr th:only-of-type {\n",
    "        vertical-align: middle;\n",
    "    }\n",
    "\n",
    "    .dataframe tbody tr th {\n",
    "        vertical-align: top;\n",
    "    }\n",
    "\n",
    "    .dataframe thead th {\n",
    "        text-align: right;\n",
    "    }\n",
    "</style>\n",
    "<table border=\"1\" class=\"dataframe\">\n",
    "  <thead>\n",
    "    <tr style=\"text-align: right;\">\n",
    "      <th></th>\n",
    "      <th>is_feasible</th>\n",
    "      <th>objective_value</th>\n",
    "      <th>solution_found</th>\n",
    "      <th>primal_residual</th>\n",
    "      <th>dual_residual</th>\n",
    "      <th>duality_gap</th>\n",
    "      <th>elapsed_time</th>\n",
    "    </tr>\n",
    "  </thead>\n",
    "  <tbody>\n",
    "    <tr>\n",
    "      <th>gurobi</th>\n",
    "      <td>True</td>\n",
    "      <td>0.080612</td>\n",
    "      <td>True</td>\n",
    "      <td>0.0</td>\n",
    "      <td>0.0</td>\n",
    "      <td>0.0</td>\n",
    "      <td>11.241116</td>\n",
    "    </tr>\n",
    "    <tr>\n",
    "      <th>cvxopt</th>\n",
    "      <td>True</td>\n",
    "      <td>0.080612</td>\n",
    "      <td>True</td>\n",
    "      <td>0.0</td>\n",
    "      <td>0.0</td>\n",
    "      <td>0.0</td>\n",
    "      <td>117.19363</td>\n",
    "    </tr>\n",
    "    <tr>\n",
    "      <th>mosek</th>\n",
    "      <td>True</td>\n",
    "      <td>0.080614</td>\n",
    "      <td>True</td>\n",
    "      <td>0.0</td>\n",
    "      <td>0.00007</td>\n",
    "      <td>0.000001</td>\n",
    "      <td>132.735383</td>\n",
    "    </tr>\n",
    "    <tr>\n",
    "      <th>osqp</th>\n",
    "      <td>True</td>\n",
    "      <td>-0.000901</td>\n",
    "      <td>True</td>\n",
    "      <td>0.001801</td>\n",
    "      <td>0.000149</td>\n",
    "      <td>0.069756</td>\n",
    "      <td>36.577922</td>\n",
    "    </tr>\n",
    "    <tr>\n",
    "      <th>highs</th>\n",
    "      <td>True</td>\n",
    "      <td>0.080612</td>\n",
    "      <td>True</td>\n",
    "      <td>0.0</td>\n",
    "      <td>0.0</td>\n",
    "      <td>0.0</td>\n",
    "      <td>6.637514</td>\n",
    "    </tr>\n",
    "    <tr>\n",
    "      <th>qpalm</th>\n",
    "      <td>True</td>\n",
    "      <td>0.080079</td>\n",
    "      <td>True</td>\n",
    "      <td>0.00007</td>\n",
    "      <td>0.0</td>\n",
    "      <td>0.000532</td>\n",
    "      <td>412.799718</td>\n",
    "    </tr>\n",
    "  </tbody>\n",
    "</table>\n",
    "</div>"
   ]
  },
  {
   "cell_type": "markdown",
   "metadata": {},
   "source": [
    "## 2. Analytical Solution to Minimum-Variance Problem\n",
    "\n",
    "(5 points)\n",
    "\n",
    "- Create a `MinVariance` class that follows the structure of the `MeanVariance` class.\n",
    "- Implement the `solve` method in `MinVariance` such that if `solver_name = 'analytical'`, the analytical solution is computed and stored within the object (if such a solution exists). If not, call the `solve` method from the parent class.\n",
    "- Create a `Constraints` object by injecting the same ids as in part 1.b) and add a budget constraint.\n",
    "- Instantiate a `MinVariance` object by setting `solver_name = 'analytical'` and passing instances of `Constraints` and `Covariance` as arguments.\n",
    "- Create an `OptimizationData` object that contains an element `return_series`, which consists of the synthetic data generated in part 1.a).\n",
    "- Solve the optimization problem using the created `MinVariance` object and compare the results to those obtained in part 1.c).\n"
   ]
  },
  {
   "cell_type": "code",
   "execution_count": 26,
   "metadata": {},
   "outputs": [
    {
     "name": "stdout",
     "output_type": "stream",
     "text": [
      "Optimal Weights: [-0.03973384  0.02556432  0.04168659  0.14378887 -0.07605087 -0.06821528\n",
      " -0.04270917  0.0153855   0.02619449 -0.01558827  0.04210866  0.07953279\n",
      "  0.01983386 -0.0297907  -0.00459884  0.12365363 -0.06110229  0.1034879\n",
      " -0.08934887  0.02114829  0.09690074 -0.10895595 -0.04332748 -0.02157568\n",
      " -0.01608325 -0.00922257 -0.0224109   0.05655577  0.06312939 -0.03574108\n",
      "  0.00532272 -0.10366038 -0.08188086  0.0240462   0.10234561  0.02940148\n",
      " -0.08968455  0.01855233 -0.07503303 -0.0716256   0.06260822 -0.00307044\n",
      " -0.02134275 -0.00189171  0.09503373  0.02120163  0.04589214 -0.03079066\n",
      "  0.07272494  0.08168427  0.1297631  -0.01454735 -0.03502958 -0.10093688\n",
      "  0.05285201 -0.09593372  0.04834424 -0.0682054   0.03440751 -0.1256212\n",
      "  0.00023455  0.02468415 -0.11157215  0.02386584  0.01407934  0.07652248\n",
      "  0.14208579  0.06849467  0.01625084  0.01424443  0.00213562  0.1159508\n",
      " -0.00568389  0.02212842  0.06749733  0.04697547  0.03025332  0.02084003\n",
      "  0.06405058  0.00334602  0.01765324 -0.01239693 -0.02840639 -0.00303917\n",
      " -0.024504    0.02652766  0.07722406 -0.07583242 -0.00445789 -0.03653749\n",
      "  0.08426711  0.06096054  0.14117485  0.06458657 -0.01570505  0.00110077\n",
      " -0.01470437  0.01364274  0.02184018 -0.00921939]\n"
     ]
    }
   ],
   "source": [
    "# Define class MinVariance\n",
    "class MinVariance(Optimization):\n",
    "\n",
    "    def __init__(self,\n",
    "                 constraints: Constraints,\n",
    "                 covariance: Optional[Covariance] = None,\n",
    "                 **kwargs):\n",
    "        super().__init__(\n",
    "            constraints=constraints,\n",
    "            **kwargs\n",
    "        )\n",
    "        self.covariance = Covariance() if covariance is None else covariance\n",
    "\n",
    "    def set_objective(self, optimization_data: OptimizationData) -> None:\n",
    "        #<your code here>\n",
    "        P = np.array(self.covariance.data)\n",
    "        # Ensure return series is a numpy array\n",
    "        q = np.array(optimization_data.return_series)\n",
    "        \n",
    "        # Check if P and q are correctly formatted\n",
    "        if P is None or q is None:\n",
    "            raise ValueError(\"P and q must be provided.\")\n",
    "        \n",
    "        self.objective = Objective(\n",
    "            P=P,\n",
    "            q=q\n",
    "        )\n",
    "\n",
    "      \n",
    "\n",
    "    def solve(self) -> None:\n",
    "        if self.params.get('solver_name') == 'analytical':\n",
    "            #<your code here>\n",
    "            Sigma = self.covariance\n",
    "            ones = np.ones(Sigma.shape[0])\n",
    "            \n",
    "            try:\n",
    "                inv_Sigma = np.linalg.inv(Sigma)\n",
    "                weights = inv_Sigma @ ones / (ones.T @ inv_Sigma @ ones)\n",
    "                self.results[\"weights\"] = weights\n",
    "            except np.linalg.LinAlgError:\n",
    "                print(\"Covariance matrix is singular, falling back to numerical solution.\")\n",
    "                return super().solve()\n",
    " #           return None\n",
    "        else:\n",
    "            return super().solve()\n",
    "\n",
    "\n",
    "# Create a constraints object with just a budget constraint\n",
    "#<your code here>\n",
    "constraints = Constraints(ids = df.columns.tolist())\n",
    "constraints.add_budget(rhs=1, sense='=')\n",
    "# Instantiate the MinVariance class\n",
    "#<your code here>\n",
    "min_var = MinVariance(constraints=constraints, covariance=cov, solver_name='analytical')\n",
    "#min_var = MinVariance(constraints=constraints, covariance=cov, solver_name='any')\n",
    "\n",
    "# Prepare the optimization data and prepare the optimization problem\n",
    "#<your code here>\n",
    "optimization_data = OptimizationData(return_series=q)\n",
    "min_var.set_objective(optimization_data)\n",
    "# Solve the optimization problem and print the weights\n",
    "#<your code here>\n",
    "min_var.solve()\n",
    "print(\"Optimal Weights:\", min_var.results['weights'])"
   ]
  },
  {
   "cell_type": "code",
   "execution_count": 34,
   "metadata": {},
   "outputs": [
    {
     "data": {
      "text/plain": [
       "np.float64(0.9999999999999999)"
      ]
     },
     "execution_count": 34,
     "metadata": {},
     "output_type": "execute_result"
    }
   ],
   "source": [
    "sum(min_var.results['weights'])\n"
   ]
  },
  {
   "cell_type": "code",
   "execution_count": 31,
   "metadata": {},
   "outputs": [
    {
     "name": "stdout",
     "output_type": "stream",
     "text": [
      "Optimal Weights: {'Asset_1': -282.17409729693713, 'Asset_2': 241.88832041092022, 'Asset_3': 219.2926108777159, 'Asset_4': 606.795009586757, 'Asset_5': -583.4749227326205, 'Asset_6': 116.27312820949254, 'Asset_7': -268.33729924417605, 'Asset_8': 50.921517314722415, 'Asset_9': 534.0209371112279, 'Asset_10': 15.710382399023256, 'Asset_11': -196.76182474262416, 'Asset_12': 296.04565917449344, 'Asset_13': 522.7313228572432, 'Asset_14': 76.29294915154551, 'Asset_15': 369.9711385087102, 'Asset_16': -131.46445741910446, 'Asset_17': -286.665104324881, 'Asset_18': 182.5602596865112, 'Asset_19': -953.7515921956609, 'Asset_20': 421.33666879102503, 'Asset_21': 93.43958577275079, 'Asset_22': -539.2273920329513, 'Asset_23': -208.39161166492573, 'Asset_24': -10.646630436494439, 'Asset_25': -424.25591954791594, 'Asset_26': -109.61999827404283, 'Asset_27': -307.53990426068935, 'Asset_28': 855.0137629592241, 'Asset_29': 466.3798243385457, 'Asset_30': -302.46560115852634, 'Asset_31': 94.73740960640346, 'Asset_32': -277.6889156063604, 'Asset_33': -594.5982459743666, 'Asset_34': -86.32255047927791, 'Asset_35': 390.37089863985284, 'Asset_36': -138.31022210150363, 'Asset_37': -320.8003375652762, 'Asset_38': 371.491673087616, 'Asset_39': -71.00230546179768, 'Asset_40': -791.7502402127849, 'Asset_41': -142.76128521964208, 'Asset_42': 218.49348878045606, 'Asset_43': -19.309932702629897, 'Asset_44': -23.53598429768311, 'Asset_45': 571.1038829109262, 'Asset_46': 396.882801709875, 'Asset_47': 19.795199866319972, 'Asset_48': 408.8850733617779, 'Asset_49': 565.4448478879897, 'Asset_50': 484.00600453989233, 'Asset_51': 730.3154693477911, 'Asset_52': -399.18850342641736, 'Asset_53': -604.1835496456966, 'Asset_54': -96.55554196302586, 'Asset_55': 242.06544036903506, 'Asset_56': -552.3054080562441, 'Asset_57': -150.87298673052393, 'Asset_58': -608.4726106197563, 'Asset_59': -195.08914090739782, 'Asset_60': -1189.8576652714198, 'Asset_61': -240.608915338273, 'Asset_62': -363.0517291052454, 'Asset_63': -689.017053025314, 'Asset_64': 5.916215041536418, 'Asset_65': -252.36242219190243, 'Asset_66': 334.032412862936, 'Asset_67': 449.9611301581601, 'Asset_68': -226.20612169236642, 'Asset_69': 38.80906513287985, 'Asset_70': 440.9951844962673, 'Asset_71': -344.6709424188382, 'Asset_72': 456.25709157414946, 'Asset_73': -18.522629432639686, 'Asset_74': -30.730544097463476, 'Asset_75': 34.87439579472986, 'Asset_76': 34.29579687531132, 'Asset_77': 495.90675296017594, 'Asset_78': 471.9498863417181, 'Asset_79': 563.6561770292514, 'Asset_80': 514.6955635049155, 'Asset_81': 383.2224947998009, 'Asset_82': -227.55337001995926, 'Asset_83': -13.909191779805422, 'Asset_84': 238.28613434328193, 'Asset_85': -104.99406790343875, 'Asset_86': 124.07422434895227, 'Asset_87': 543.4865929885095, 'Asset_88': -605.3748658159941, 'Asset_89': -108.67461729851533, 'Asset_90': -722.2254982103038, 'Asset_91': 441.9501275889981, 'Asset_92': 180.06681095360625, 'Asset_93': 400.82578730230205, 'Asset_94': 450.555874278748, 'Asset_95': -303.28815175974086, 'Asset_96': 53.1952209374232, 'Asset_97': -222.99903837876465, 'Asset_98': -531.3411519797243, 'Asset_99': -98.62295707853337, 'Asset_100': -246.74315747238245}\n"
     ]
    }
   ],
   "source": [
    "min_var1 = MinVariance(constraints=constraints, covariance=cov, solver_name='any')\n",
    "min_var1.set_objective(optimization_data)\n",
    "# Solve the optimization problem and print the weights\n",
    "#<your code here>\n",
    "min_var1.solve()\n",
    "print(\"Optimal Weights:\", min_var1.results['weights'])"
   ]
  },
  {
   "cell_type": "code",
   "execution_count": 33,
   "metadata": {},
   "outputs": [
    {
     "data": {
      "text/plain": [
       "0.9999999989378807"
      ]
     },
     "execution_count": 33,
     "metadata": {},
     "output_type": "execute_result"
    }
   ],
   "source": [
    "sum(min_var1.results['weights'].values())\n"
   ]
  },
  {
   "cell_type": "code",
   "execution_count": null,
   "metadata": {},
   "outputs": [],
   "source": []
  }
 ],
 "metadata": {
  "kernelspec": {
   "display_name": "uzhpm25",
   "language": "python",
   "name": "python3"
  },
  "language_info": {
   "codemirror_mode": {
    "name": "ipython",
    "version": 3
   },
   "file_extension": ".py",
   "mimetype": "text/x-python",
   "name": "python",
   "nbconvert_exporter": "python",
   "pygments_lexer": "ipython3",
   "version": "3.10.16"
  }
 },
 "nbformat": 4,
 "nbformat_minor": 2
}
